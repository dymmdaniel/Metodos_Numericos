{
 "cells": [
  {
   "cell_type": "markdown",
   "metadata": {
    "colab_type": "text",
    "id": "N5g4DHLudBvO"
   },
   "source": [
    "# Pre-Parcial, Métodos Numéricos, 2020-II\n",
    "\n",
    "## Profesor: Daniel Montenegro.\n",
    "\n",
    "Bienvenidas y bienvenidos al primer pre-parcial de modelamiento y simulación.\n",
    "\n",
    "Realice los siguientes puntos.\n",
    "\n",
    "**El examen se podrá realizar en grupos de proyecto únicamente.**\n",
    "\n",
    "**La entrega del examen deberá ser un Jupyterlab Notebook, ordenado adecuadamente con secciones, fotos, links y demás cosas que un cuaderno debe contener.**"
   ]
  },
  {
   "cell_type": "markdown",
   "metadata": {
    "colab_type": "text",
    "id": "Bqb1MiILdBvQ"
   },
   "source": [
    "## Punto 1"
   ]
  },
  {
   "cell_type": "markdown",
   "metadata": {
    "colab_type": "text",
    "id": "5-S9lyeqdBvR"
   },
   "source": [
    "Describa el ciclo de modelamiento y muestre al menos dos ejemplos de modelamiento matemático que tengan solución analítica.\n",
    "\n",
    "¿Cuál es la diferencia entre regresión y modelo? Dé un ejemplo"
   ]
  },
  {
   "cell_type": "markdown",
   "metadata": {
    "colab_type": "text",
    "id": "CHq46OFLdBvT"
   },
   "source": [
    "## Punto 2 "
   ]
  },
  {
   "cell_type": "markdown",
   "metadata": {
    "colab_type": "text",
    "id": "u0bc63PJdBvU"
   },
   "source": [
    "Cree  un ambiente de Python en Anaconda que contenga los siguientes paquetes:\n",
    "\n",
    "- pandas\n",
    "- openCV\n",
    "- tensorflow última versión\n",
    "- numpy\n",
    "- seaborn\n",
    "- simpy\n",
    "\n",
    "¿Qué versiones son implicadas? Justifique"
   ]
  },
  {
   "cell_type": "markdown",
   "metadata": {
    "colab_type": "text",
    "id": "kkW0GQXzdBvW"
   },
   "source": [
    "## Punto 3 "
   ]
  },
  {
   "cell_type": "markdown",
   "metadata": {
    "colab_type": "text",
    "id": "wcTmqnfSdBvX"
   },
   "source": [
    "Genere un arreglo 2X3 de imágenes usando **matplotlib** que contenga\n",
    "\n",
    "- Dos Imágenes de la web diferentes\n",
    "- Dos imagenes con datos simulados por usted mismo.\n",
    "- Dos Imágenes en 3D."
   ]
  },
  {
   "cell_type": "markdown",
   "metadata": {
    "colab_type": "text",
    "id": "8tIPyr8NdBvY"
   },
   "source": [
    "## Punto 4"
   ]
  },
  {
   "cell_type": "markdown",
   "metadata": {
    "colab_type": "text",
    "id": "DIHk9BnBdBvZ"
   },
   "source": [
    "Usaremos este paquete para extraer información importante de la base [Predios2018](https://www.datos.gov.co/Ordenamiento-Territorial/Predios-de-Bogot-/twbp-6xh5) que contiene alrededor de 5.5 millones de registros con 22 características.\n",
    "\n",
    "Analice los datos usando pandas y concluya cuáles son los barrios más grandes dentro de dicha base que tengan un chip asociado. "
   ]
  },
  {
   "cell_type": "markdown",
   "metadata": {
    "colab_type": "text",
    "id": "6He-1nh6dBva"
   },
   "source": [
    "## Punto 5\n",
    "\n",
    "Simule un sistema de ecuaciones lineales 10000x10000 que contengan números aleatorias normalmente distribuidos.\n",
    "\n",
    "**Pasos:**\n",
    "\n",
    "1. Genere una matriz aleatoria A\n",
    "2. Genere un vector b\n",
    "3. Resuelva la ecuación $Ax=b$ usando algún paquete de numpy.\n",
    "\n",
    "Realice un análisis de qué respuestas del sistema tienen componentes mayor de 0.5 y trunque los resultados redondeando adecuadamente.\n",
    "\n",
    "¿Puede utilizar el mismo procedimiento si la matriz no es cuadrada? Implemente un ejemplo y en caso negativo, solucione el problema."
   ]
  },
  {
   "cell_type": "code",
   "execution_count": null,
   "metadata": {
    "colab": {},
    "colab_type": "code",
    "id": "pPB0YW97dBvb"
   },
   "outputs": [],
   "source": [
    "## YOUR CODE HERE"
   ]
  },
  {
   "cell_type": "markdown",
   "metadata": {
    "colab_type": "text",
    "id": "rQSUiZB8dBvi"
   },
   "source": [
    "## Punto 6 (Bonus)"
   ]
  },
  {
   "cell_type": "markdown",
   "metadata": {
    "colab_type": "text",
    "id": "8ggjnjW7dBvj"
   },
   "source": [
    "Realice un módulo de Python que contenga al menos tres funciones y actúe conjuntamente para resolver el siguiente problema:\n",
    "\n",
    "- Una animación que rote una imagen adecuadamente en contra del sentido de las mandecillas del reloj exactamente dos veces, cambie el color de sus pixeles y haga zoom en alguna parte de la imagen.\n",
    "\n",
    "**Pista 1:** Las animaciones no se muestran por defecto en **Jupyter**, por lo que se hace necesario hacer un script externo y ejecutarlo vía:\n",
    "\n",
    "```python mi_script.py```\n",
    "\n",
    "**Pista 2:** Para generar la animación puede usar el paquete **drawnow**.\n",
    "\n",
    "**Pista 3:** El paquete PIL permite rotar imágenes."
   ]
  },
  {
   "cell_type": "code",
   "execution_count": null,
   "metadata": {
    "colab": {},
    "colab_type": "code",
    "id": "Yyb5ugv8dBvk"
   },
   "outputs": [],
   "source": [
    "## YOUR CODE HERE"
   ]
  }
 ],
 "metadata": {
  "colab": {
   "name": "Pre-Parcial I.ipynb",
   "provenance": []
  },
  "kernelspec": {
   "display_name": "Python 3",
   "language": "python",
   "name": "python3"
  },
  "language_info": {
   "codemirror_mode": {
    "name": "ipython",
    "version": 3
   },
   "file_extension": ".py",
   "mimetype": "text/x-python",
   "name": "python",
   "nbconvert_exporter": "python",
   "pygments_lexer": "ipython3",
   "version": "3.8.3"
  }
 },
 "nbformat": 4,
 "nbformat_minor": 4
}
